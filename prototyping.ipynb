{
 "cells": [
  {
   "cell_type": "code",
   "execution_count": 1,
   "metadata": {},
   "outputs": [
    {
     "name": "stderr",
     "output_type": "stream",
     "text": [
      "c:\\Users\\nikhi\\Documents\\Projects\\AdapterBERT\\.venv\\Lib\\site-packages\\tqdm\\auto.py:21: TqdmWarning: IProgress not found. Please update jupyter and ipywidgets. See https://ipywidgets.readthedocs.io/en/stable/user_install.html\n",
      "  from .autonotebook import tqdm as notebook_tqdm\n"
     ]
    }
   ],
   "source": [
    "import torch\n",
    "from transformers import pipeline\n",
    "from transformers import AutoTokenizer, AutoModelForSequenceClassification, AutoConfig\n",
    "from transformers import DataCollatorWithPadding\n",
    "from pprint import pprint\n",
    "from src.data import load_data, get_tokens_for_seq_classification  \n",
    "from src.utils import (load_sequence_classification_model, \n",
    "                   add_adapters_to_bert_layers, \n",
    "                   freeze_all_bert_layers,\n",
    "                   unfreeze_bert_adapters)\n",
    "from src.adapter import AdapterConfig\n",
    "\n",
    "import warnings\n",
    "warnings.filterwarnings(\"ignore\")"
   ]
  },
  {
   "cell_type": "code",
   "execution_count": 2,
   "metadata": {},
   "outputs": [
    {
     "data": {
      "text/plain": [
       "DatasetDict({\n",
       "    train: Dataset({\n",
       "        features: ['sentence', 'label', 'idx'],\n",
       "        num_rows: 67349\n",
       "    })\n",
       "    validation: Dataset({\n",
       "        features: ['sentence', 'label', 'idx'],\n",
       "        num_rows: 872\n",
       "    })\n",
       "    test: Dataset({\n",
       "        features: ['sentence', 'label', 'idx'],\n",
       "        num_rows: 1821\n",
       "    })\n",
       "})"
      ]
     },
     "execution_count": 2,
     "metadata": {},
     "output_type": "execute_result"
    }
   ],
   "source": [
    "sst2_dataset = load_data((\"glue\", \"sst2\"), cache_dir= \"cache\\\\data\")\n",
    "sst2_dataset"
   ]
  },
  {
   "cell_type": "code",
   "execution_count": 3,
   "metadata": {},
   "outputs": [
    {
     "name": "stderr",
     "output_type": "stream",
     "text": [
      "Some weights of BertForSequenceClassification were not initialized from the model checkpoint at bert-base-uncased and are newly initialized: ['classifier.bias', 'classifier.weight']\n",
      "You should probably TRAIN this model on a down-stream task to be able to use it for predictions and inference.\n"
     ]
    }
   ],
   "source": [
    "bert_model = load_sequence_classification_model(\"bert-base-uncased\", 2)\n",
    "\n",
    "adapter_cfg = AdapterConfig(hidden_dim=bert_model.config.hidden_size,\n",
    "                            adapter_dim=64,\n",
    "                            adapter_act=bert_model.config.hidden_act,\n",
    "                            adapter_initializer_range=1e-2)\n",
    "\n",
    "bert_model.bert = add_adapters_to_bert_layers(bert_model.bert, adapter_cfg)\n",
    "bert_model.bert = freeze_all_bert_layers(bert_model.bert)\n",
    "bert_model.bert = unfreeze_bert_adapters(bert_model.bert)"
   ]
  },
  {
   "cell_type": "code",
   "execution_count": 4,
   "metadata": {},
   "outputs": [
    {
     "name": "stderr",
     "output_type": "stream",
     "text": [
      "Map: 100%|██████████| 872/872 [00:00<00:00, 5320.11 examples/s]\n"
     ]
    }
   ],
   "source": [
    "sst2_tokens = get_tokens_for_seq_classification(\"bert-base-uncased\", sst2_dataset)"
   ]
  },
  {
   "cell_type": "code",
   "execution_count": 5,
   "metadata": {},
   "outputs": [],
   "source": [
    "## Not needed when training with transformers Trainer\n",
    "# from transformers import DataCollatorWithPadding\n",
    "# from torch.utils.data import DataLoader\n",
    "\n",
    "# data_collate = DataCollatorWithPadding(tokenizer=tokenizer)\n",
    "\n",
    "# sst2_trainloader = DataLoader(sst2_tokenized[\"train\"], \n",
    "#                        batch_size=8, \n",
    "#                        collate_fn=data_collate,\n",
    "#                        shuffle=True)\n",
    "# sst2_valloader = DataLoader(sst2_tokenized[\"validation\"], \n",
    "#                      batch_size=8, \n",
    "#                      collate_fn=data_collate,\n",
    "#                      shuffle=False)\n",
    "# for batch in sst2_trainloader:\n",
    "#     print(batch.keys())\n",
    "#     break\n",
    "\n",
    "# for batch in sst2_valloader:\n",
    "#     print(batch.keys())\n",
    "#     break"
   ]
  },
  {
   "cell_type": "code",
   "execution_count": null,
   "metadata": {},
   "outputs": [],
   "source": [
    "from transformers import TrainingArguments, Trainer\n",
    "import accelerate\n",
    "from sklearn.metrics import accuracy_score, f1_score\n",
    "import numpy as np\n",
    "\n",
    "n_epochs = 3\n",
    "batch_size = 8\n",
    "metric_name = \"eval_accuracy\"\n",
    "\n",
    "training_args = TrainingArguments(\n",
    "    learning_rate = 2e-5,\n",
    "    weight_decay=0.01,\n",
    "    num_train_epochs = n_epochs,\n",
    "    per_device_train_batch_size = batch_size,\n",
    "    per_device_eval_batch_size = batch_size,\n",
    "    evaluation_strategy = \"epoch\",\n",
    "    save_strategy = \"epoch\",\n",
    "    metric_for_best_model = metric_name,\n",
    "    greater_is_better = True,\n",
    "    load_best_model_at_end = True,\n",
    "    logging_steps=50,\n",
    "    output_dir = \"cache\\\\checkpoints\\\\adapter_bert_sst2\",\n",
    "    logging_dir = \"cache\\\\logs\\\\adapter_bert_sst2\",\n",
    ")\n",
    "\n",
    "def compute_metrics(eval_pred):\n",
    "    predictions, labels = eval_pred\n",
    "    predictions = np.argmax(predictions, axis=1)\n",
    "    return {'eval_accuracy': accuracy_score(labels, predictions),\n",
    "            'eval_f1': f1_score(labels, predictions, average='macro')}\n",
    "\n",
    "tokenizer = AutoTokenizer.from_pretrained(\n",
    "        \"bert-base-uncased\",\n",
    "        truncation=True,\n",
    "        padding=True,\n",
    "        use_fast=True,\n",
    "        cache_dir=\"cache\\\\tokenizer\",\n",
    "    )\n",
    "\n",
    "trainer = Trainer(model=bert_model, \n",
    "                  train_dataset=sst2_tokens[\"train\"], \n",
    "                  eval_dataset=sst2_tokens[\"validation\"], \n",
    "                  args=training_args, \n",
    "                #   tokenizer=tokenizer,\n",
    "                  compute_metrics=compute_metrics)\n",
    "\n",
    "trainer.train()\n",
    "trainer.evalueate()\n",
    "trainer.save_model(\"cache\\\\models\\\\adapter-bert-sentiment-analysis\")"
   ]
  },
  {
   "cell_type": "code",
   "execution_count": 17,
   "metadata": {},
   "outputs": [
    {
     "data": {
      "text/plain": [
       "SequenceClassifierOutput(loss=tensor(0.8549, device='cuda:0', grad_fn=<NllLossBackward0>), logits=tensor([[-0.0040,  0.5968],\n",
       "        [ 0.1314,  0.5220],\n",
       "        [ 0.4034,  0.6201],\n",
       "        [ 0.2548,  0.6052]], device='cuda:0', grad_fn=<AddmmBackward0>), hidden_states=None, attentions=None)"
      ]
     },
     "execution_count": 17,
     "metadata": {},
     "output_type": "execute_result"
    }
   ],
   "source": [
    "output = bert_model(input_ids = sst2_tokens[\"train\"][:4][\"input_ids\"].cuda(),\n",
    "                    attention_mask = sst2_tokens[\"train\"][:4][\"attention_mask\"].cuda(),\n",
    "                    labels = sst2_tokens[\"train\"][:4][\"labels\"].cuda())\n",
    "output"
   ]
  }
 ],
 "metadata": {
  "kernelspec": {
   "display_name": ".venv",
   "language": "python",
   "name": "python3"
  },
  "language_info": {
   "codemirror_mode": {
    "name": "ipython",
    "version": 3
   },
   "file_extension": ".py",
   "mimetype": "text/x-python",
   "name": "python",
   "nbconvert_exporter": "python",
   "pygments_lexer": "ipython3",
   "version": "3.11.4"
  }
 },
 "nbformat": 4,
 "nbformat_minor": 2
}
